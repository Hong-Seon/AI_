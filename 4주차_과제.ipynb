{
  "nbformat": 4,
  "nbformat_minor": 0,
  "metadata": {
    "colab": {
      "name": "4주차_과제.ipynb",
      "provenance": [],
      "collapsed_sections": [],
      "include_colab_link": true
    },
    "kernelspec": {
      "name": "python3",
      "display_name": "Python 3"
    },
    "accelerator": "GPU"
  },
  "cells": [
    {
      "cell_type": "markdown",
      "metadata": {
        "id": "view-in-github",
        "colab_type": "text"
      },
      "source": [
        "<a href=\"https://colab.research.google.com/github/Hong-Seon/AI_/blob/master/4%EC%A3%BC%EC%B0%A8_%EA%B3%BC%EC%A0%9C.ipynb\" target=\"_parent\"><img src=\"https://colab.research.google.com/assets/colab-badge.svg\" alt=\"Open In Colab\"/></a>"
      ]
    },
    {
      "cell_type": "markdown",
      "metadata": {
        "id": "wxkL6PjwsI6L",
        "colab_type": "text"
      },
      "source": [
        "# 4주차 과제\n",
        "- 용어 정리\n",
        "- 딥러닝 강의 클론 코딩\n",
        "- 딥러닝 순전파 & 역전파 계산"
      ]
    },
    {
      "cell_type": "markdown",
      "metadata": {
        "id": "ixEtDe6_uGgI",
        "colab_type": "text"
      },
      "source": [
        "## 1. 용어 정리\n",
        "\n",
        "다음 제시된 단어의 정의(설명)를 정리하여 작성 하세요.\n",
        "\n",
        "* 2문장 이상 작성 해 주세요. \n",
        "* 주제(단어)와 크게 벗어나지만 않는다면 정답처리 됩니다.\n",
        "* 강의 뿐 아니라 기타 레퍼런스를 참고하여 작성하셔도 됩니다. (기타 레퍼런스를 참고하신 경우, 해당 레퍼런스를 정리하여 하단에 작성해 주세요.)\n"
      ]
    },
    {
      "cell_type": "markdown",
      "metadata": {
        "id": "0lfwat8eurKZ",
        "colab_type": "text"
      },
      "source": [
        "__(예시)__\n",
        "### 심층 신경망\n",
        ": 입력층과 출력층 사이에 여러 개의 은닉층들로 이뤄진 인공신경망이다. 심층 신경망은 일반적으로 인공신경망과 마찬가지로 복잡한 비선형 관계들을 모델링 할 수 있다. 신층신경망의 목적은 분류 및 수치예측을 하기 위함이고 이미지 트레이닝이나 문자인식과 같은 분야에서 매우 유용하게 쓰이고 있다."
      ]
    },
    {
      "cell_type": "markdown",
      "metadata": {
        "id": "Y8YJNKG_v65A",
        "colab_type": "text"
      },
      "source": [
        "### MCP 뉴런\n",
        ":여러 개의 입력 신호가 가지돌기(Dendrite)에 도착하면 신경세포 내에서 이들을 하나의 신호로 통합하고, 통합된 신호값이 임계값을 초과하면 하나의 단일신호가 생성되어, 다른 신경세포로 전달되는데 이러한 원리로 동작하는 뇌세포를 McCulloch-Pitts 뉴런이라고 한다.\n",
        "\n",
        "### 퍼셉트론\n",
        ": 사람의 뇌를 흉내내는 인공신경망과 다양한 머신러닝 알고리즘을 통해 구현되며 현재 가장 널리 사용되는 인공지능을 위한 알고리즘이다. 퍼셉트론은 다수의 트레이닝 데이터를 이용하여 일종의 지도학습을 수행하는 알고리즘으로 입력층, 중간층, 출력층을 갖는 구조로 하여 중간층을 노드 또는  뉴런이라 하며, 중간층의 개수의 영향 바탕으로 단층 퍼셉트론 혹은 다층 퍼셉트론으로 나뉠 수 있다.\n",
        "\n",
        "### 역전파\n",
        ": 뉴런의 가중치를 효율적으로 조정하기 위하여, 거꾸로 무엇인가를 전파하는 방식, 순전파 전달 이후 출력 값이 정확하지 않을 때 다시 역으로 오차를 보내며 가중치를 업데이트한다.\n",
        "\n",
        "### 강화학습\n",
        ":강화학습(Reinforcement Learning)은 시도와 실패(Trial and Error)를 통해 학습하는 autonomous, self-teaching system이다. 이것은 보상의 극대화에 초점을 두고 행동하며, 최상의 결과를 얻기 위해 학습한다.  강화학습은 여러 가지의 서로 다른 행동을 취하며 결과에 대한 피드백을 받으며 해당 행위가 최고의 보상을 주는지 학습한다.\n",
        "\n",
        "### 과적합\n",
        ":머신러닝이나 딥러닝 분야에서 모델을 만드는데, 모델에 training data를 과하게 학습을 시키는 것을 의미한다.\n",
        "모델에 training data를 과하게 학습을 시키면, 모델은 training data에 좋은 성능을 나타내고, 오차나 MSE가 줄어들 수 있겠지만 training data가 아닌 새로운 data에 대해서는 좋지 않는 성능을 나타내고, 오차나 MSE가 커지게 된다. 즉, training data에 무한한 신뢰를 하여 모델에 과하게 적합을 하면, 일반화의 성능이 떨어지게 된다.\n",
        "\n",
        "\n",
        "### 차원의 저주\n",
        ": 차원의 저주란 훈련 샘플 각각이 수천 심지어 수백만 개의 특성을 가지고 있을 때 훈련을 느리게 할 뿐만 아니라, 최적의 솔루션을 찾기 어렵게 만드는 현상\n",
        "고차원으로 갈수록 전체 공간에서 데이터가 차지하는 공간이 매우 미비해진다 것을 의미한다. 즉 새로운 샘플도 훈련 샘플과 멀리 떨어져 있을 가능성이 높다는 뜻이므로\n",
        "예측을 위해 훨씬 많은 작업을 하고, 저차원일 때보다 예측이 불안정해진다.\n"
      ]
    },
    {
      "cell_type": "markdown",
      "metadata": {
        "id": "d-zfFXLCy6jD",
        "colab_type": "text"
      },
      "source": [
        "## 2. 딥러닝 강의 클론 코딩\n",
        "\n",
        "####__퍼셉트론 구조 구현하기__ \n",
        "딥러닝 강의(__딥러닝 원리[1] 3:15 ~ 5:15 부분__)를 보고 코드를 따라 치며 출력 결과를 만드세요.\n",
        " \n",
        "\n",
        "* 하나의 코드셀에 해당 코드를 한번에 다 적어서 실행해주세요 (__그렇게 하지 않을 경우, 아래 이미지와 같은 출력값이 나오지 않을 수 있습니다__)\n",
        "\n",
        "*__주의!__ 실제로 코딩해서 출력해보면 강의에 나온 출력 결과와 다르게 나옵니다!!\n"
      ]
    },
    {
      "cell_type": "markdown",
      "metadata": {
        "id": "wcc5mzI9oZ7r",
        "colab_type": "text"
      },
      "source": [
        "![대체 텍스트](https://www.notion.so/image/https%3A%2F%2Fs3-us-west-2.amazonaws.com%2Fsecure.notion-static.com%2F0cceeed0-0235-4b0f-af88-0b8c377d5b4b%2F_2020-06-09__9.35.23.png?table=block&id=88fd8912-9356-49a4-9fda-a1a63fe96ea9&width=2870&cache=v2)"
      ]
    },
    {
      "cell_type": "code",
      "metadata": {
        "id": "ztsBGT_Jmgxu",
        "colab_type": "code",
        "colab": {}
      },
      "source": [
        "import tensorflow as tf\n",
        "import math"
      ],
      "execution_count": 0,
      "outputs": []
    },
    {
      "cell_type": "code",
      "metadata": {
        "id": "gI-l3hG-mlP9",
        "colab_type": "code",
        "colab": {}
      },
      "source": [
        "tf.compat.v1.set_random_seed(2020)\n",
        "x = 1\n",
        "y = 0\n",
        "w = tf.random.normal([1],0,1)"
      ],
      "execution_count": 0,
      "outputs": []
    },
    {
      "cell_type": "code",
      "metadata": {
        "id": "tKdLd2DYm2If",
        "colab_type": "code",
        "colab": {}
      },
      "source": [
        "def sigmoid(x):\n",
        "  return 1/(1 + math.exp(-x))"
      ],
      "execution_count": 0,
      "outputs": []
    },
    {
      "cell_type": "code",
      "metadata": {
        "id": "ZnNLYVB_nUTN",
        "colab_type": "code",
        "colab": {
          "base_uri": "https://localhost:8080/",
          "height": 34
        },
        "outputId": "f8ae14ea-f84d-41e9-c658-64c437ae68cf"
      },
      "source": [
        "output = sigmoid(x*w)\n",
        "print(output)"
      ],
      "execution_count": 4,
      "outputs": [
        {
          "output_type": "stream",
          "text": [
            "0.47477188589261\n"
          ],
          "name": "stdout"
        }
      ]
    },
    {
      "cell_type": "code",
      "metadata": {
        "id": "-pGKblH0nN3H",
        "colab_type": "code",
        "colab": {
          "base_uri": "https://localhost:8080/",
          "height": 187
        },
        "outputId": "5a370c57-8676-45af-94d9-82062aaa7c84"
      },
      "source": [
        "for i in range(1000):\n",
        "  output = sigmoid(x*w)\n",
        "  error = y - output\n",
        "  w = w + x*0.1*error\n",
        "\n",
        "  if i % 100 == 99:\n",
        "    print(\"학습 횟수: \",i, \"Error\",error, \"예측결과: \",output)"
      ],
      "execution_count": 5,
      "outputs": [
        {
          "output_type": "stream",
          "text": [
            "학습 횟수:  99 Error -0.10010598284299604 예측결과:  0.10010598284299604\n",
            "학습 횟수:  199 Error -0.05178399422833116 예측결과:  0.05178399422833116\n",
            "학습 횟수:  299 Error -0.034590451977903586 예측결과:  0.034590451977903586\n",
            "학습 횟수:  399 Error -0.02588962752851373 예측결과:  0.02588962752851373\n",
            "학습 횟수:  499 Error -0.020658699939863617 예측결과:  0.020658699939863617\n",
            "학습 횟수:  599 Error -0.017174253993457355 예측결과:  0.017174253993457355\n",
            "학습 횟수:  699 Error -0.014689506449480992 예측결과:  0.014689506449480992\n",
            "학습 횟수:  799 Error -0.012829497265431342 예측결과:  0.012829497265431342\n",
            "학습 횟수:  899 Error -0.011385568271837804 예측결과:  0.011385568271837804\n",
            "학습 횟수:  999 Error -0.010232493309882492 예측결과:  0.010232493309882492\n"
          ],
          "name": "stdout"
        }
      ]
    },
    {
      "cell_type": "markdown",
      "metadata": {
        "id": "kr0HVRk8fOom",
        "colab_type": "text"
      },
      "source": [
        "## 3. 딥러닝 순전파 & 역전파 계산\n",
        "\n",
        "딥러닝 강의(__딥러닝 원리[2] 0:55 ~ 4:32 부분__)에 나오는 순전파 & 역전파 계산에 대한 문제 입니다.\n",
        "\n",
        "해당 영상과 다음 이미지를 참고하여 다음 2가지 물음에 답하세요.\n",
        "\n",
        "\n",
        "(1) 학습률이 0.2 일 경우 출력층의 노드값\n",
        "\n",
        "(2) 학습률이 0.1과 0.2 중 기대출력값이 지도데이터 \"3\"과 더 가까운 학습률은?"
      ]
    },
    {
      "cell_type": "markdown",
      "metadata": {
        "id": "CpwPFWhOUzww",
        "colab_type": "text"
      },
      "source": [
        "![대체 텍스트](https://www.notion.so/image/https%3A%2F%2Fs3-us-west-2.amazonaws.com%2Fsecure.notion-static.com%2Ff54dfd45-92ec-44ae-9616-6949d2484a45%2F_2020-06-10__5.22.03.png?table=block&id=ee05da89-3ceb-4ad9-a2d3-c9f68d24d1d9&width=3580&cache=v2)"
      ]
    },
    {
      "cell_type": "markdown",
      "metadata": {
        "id": "B2OVY7w5U3CI",
        "colab_type": "text"
      },
      "source": [
        "## (1) 학습률이 0.2 일 경우 출력층의 노드값 : 1.6\n",
        "## (2) 학습률이 0.1과 0.2 중 기대출력값이 지도데이터 \"3\"과 더 가까운 학습률은? : 0.1"
      ]
    },
    {
      "cell_type": "code",
      "metadata": {
        "id": "u2BoUVZpdjHd",
        "colab_type": "code",
        "colab": {}
      },
      "source": [
        ""
      ],
      "execution_count": 0,
      "outputs": []
    },
    {
      "cell_type": "markdown",
      "metadata": {
        "id": "-GCGL-LPdMbI",
        "colab_type": "text"
      },
      "source": [
        "### 참고자료"
      ]
    },
    {
      "cell_type": "markdown",
      "metadata": {
        "id": "bQNpvTsJdNe9",
        "colab_type": "text"
      },
      "source": [
        "MCP뉴런, 퍼셉트론 : https://m.blog.naver.com/PostView.nhn?blogId=samsjang&logNo=220948258166&proxyReferer=https:%2F%2Fwww.google.com%2F\n",
        "\n",
        "강화학습 : https://mangkyu.tistory.com/59\n",
        "\n",
        "과적합 : https://yongku.tistory.com/entry/%EB%94%A5%EB%9F%AC%EB%8B%9D%EA%B3%BC-%EB%A8%B8%EC%8B%A0%EB%9F%AC%EB%8B%9D-%EA%B3%BC%EC%A0%81%ED%95%A9Overfitting-%EA%B3%BC%EC%A0%81%ED%95%A9Overfitting-%ED%99%95%EC%9D%B8%ED%95%B4%EB%B3%B4%EA%B8%B0\n",
        "\n",
        "차원의 저주 : https://m.blog.naver.com/PostView.nhn?blogId=qbxlvnf11&logNo=221323034856&proxyReferer=https:%2F%2Fwww.google.com%2F"
      ]
    }
  ]
}